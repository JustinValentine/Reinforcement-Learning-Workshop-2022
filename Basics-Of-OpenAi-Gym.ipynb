{
 "cells": [
  {
   "cell_type": "markdown",
   "id": "3bae090b",
   "metadata": {},
   "source": [
    "# The Basics of OpenAi Gym"
   ]
  },
  {
   "cell_type": "markdown",
   "id": "992f3e33",
   "metadata": {},
   "source": [
    "## 1. [Installation & Setup](#Installation-&-Setup)\n",
    "## 2. [Environments](#Environments)\n",
    "## 3. [Spaces](#Spaces)\n",
    "## 4. [Wrappers](#Wrappers)\n",
    "## 5. [Vectorized Environments](#Vectorized-Environments)"
   ]
  },
  {
   "cell_type": "markdown",
   "id": "8713d0f4",
   "metadata": {},
   "source": [
    "# Installation & Setup"
   ]
  },
  {
   "cell_type": "markdown",
   "id": "d5deeace",
   "metadata": {},
   "source": [
    "### Setting up the virtual envorment \n",
    "- Lets create a new virtual enviorment to house our new project called **OpenAiGym** by typing the following comand into the terminal `conda create -n OpenAiGym python=3.9`\n",
    "- Next we will active our enviorment `conda activate OpenAiGym`\n",
    "- If you do not have miniconda installed you can get it [here](https://docs.conda.io/en/latest/miniconda.html) "
   ]
  },
  {
   "cell_type": "markdown",
   "id": "ad3e331f",
   "metadata": {},
   "source": [
    "### Setting up the virtual enviorment kernel for Jupyter Notebook\n",
    "- First we need to install the following package `pip install --user ipykernel`\n",
    "- Next we need to add the kernel so we can have it in our Jupyter Notebook `python -m ipykernel install --user --name=OpenAiGym`\n",
    "- Later if you wanna remove the enverment later use `jupyter kernelspec uninstall myenv`"
   ]
  },
  {
   "cell_type": "markdown",
   "id": "a9b362d8",
   "metadata": {},
   "source": [
    "### Installation\n",
    "- Firstly we need to install the base gym library `pip install gym` \n",
    "- Next we will need to install the atari enviorment dependences `pip install gym[atari]`\n",
    "- You can freely download Atari 2600 roms [here](#http://www.atarimania.com/rom_collection_archive_atari_2600_roms.html) but the Breakout ROM that we will be using is provided \n",
    "- Next we will use ALE to import our ROM `ale-import-roms roms/`"
   ]
  },
  {
   "cell_type": "markdown",
   "id": "509b46e7",
   "metadata": {},
   "source": [
    "# Environments"
   ]
  },
  {
   "cell_type": "markdown",
   "id": "f8b9a3c4",
   "metadata": {},
   "source": []
  },
  {
   "cell_type": "markdown",
   "id": "d7c97dbf",
   "metadata": {},
   "source": [
    "# Spaces"
   ]
  },
  {
   "cell_type": "markdown",
   "id": "1048ec13",
   "metadata": {},
   "source": [
    "# Wrappers"
   ]
  },
  {
   "cell_type": "markdown",
   "id": "18873adf",
   "metadata": {},
   "source": [
    "# Vectorized Environments"
   ]
  }
 ],
 "metadata": {
  "kernelspec": {
   "display_name": "Test",
   "language": "python",
   "name": "test"
  },
  "language_info": {
   "codemirror_mode": {
    "name": "ipython",
    "version": 3
   },
   "file_extension": ".py",
   "mimetype": "text/x-python",
   "name": "python",
   "nbconvert_exporter": "python",
   "pygments_lexer": "ipython3",
   "version": "3.9.13"
  }
 },
 "nbformat": 4,
 "nbformat_minor": 5
}

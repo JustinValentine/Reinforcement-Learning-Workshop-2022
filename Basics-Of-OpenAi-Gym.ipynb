{
 "cells": [
  {
   "cell_type": "markdown",
   "id": "e873198b",
   "metadata": {},
   "source": [
    "# Installation & Setup"
   ]
  },
  {
   "cell_type": "markdown",
   "id": "de353780",
   "metadata": {},
   "source": [
    "### Setting up the virtual envorment \n",
    "- Lets create a new virtual enviorment to house our new project called **OpenAiGym** by typing the following comand into the terminal `conda create -n OpenAiGym python=3.9`\n",
    "- Next we will active our enviorment `conda activate OpenAiGym`\n",
    "- If you do not have miniconda installed you can get it [here](https://docs.conda.io/en/latest/miniconda.html) "
   ]
  },
  {
   "cell_type": "markdown",
   "id": "2df3c721",
   "metadata": {},
   "source": [
    "### Setting up the virtual enviorment kernel for Jupyter Notebook\n",
    "- First we need to install the following package `pip install --user ipykernel`\n",
    "- Next we need to add the kernel so we can have it in our Jupyter Notebook `python -m ipykernel install --user --name=OpenAiGym`\n",
    "- Later if you wanna remove the enverment later use `jupyter kernelspec uninstall myenv`"
   ]
  },
  {
   "cell_type": "markdown",
   "id": "7a9cb8f9",
   "metadata": {},
   "source": [
    "### Installation\n",
    "- Firstly we need to install the base gym library `pip install gym` \n",
    "- Next we will need to install the atari enviorment dependences `pip install gym[atari]`\n",
    "- You can freely download Atari 2600 roms [here](#http://www.atarimania.com/rom_collection_archive_atari_2600_roms.html) but the Breakout ROM that we will be using is provided \n",
    "- Next we will use ALE to import our ROM `ale-import-roms roms/`"
   ]
  }
 ],
 "metadata": {
  "kernelspec": {
   "display_name": "Test",
   "language": "python",
   "name": "test"
  },
  "language_info": {
   "codemirror_mode": {
    "name": "ipython",
    "version": 3
   },
   "file_extension": ".py",
   "mimetype": "text/x-python",
   "name": "python",
   "nbconvert_exporter": "python",
   "pygments_lexer": "ipython3",
   "version": "3.9.13"
  }
 },
 "nbformat": 4,
 "nbformat_minor": 5
}

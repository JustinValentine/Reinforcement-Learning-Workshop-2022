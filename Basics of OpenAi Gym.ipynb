{
 "cells": [
  {
   "cell_type": "markdown",
   "id": "c4ace314",
   "metadata": {},
   "source": [
    "# The Basics of OpenAi Gym"
   ]
  },
  {
   "cell_type": "markdown",
   "id": "6a75511c",
   "metadata": {},
   "source": [
    "## 1. [Installation & Setup](#Installation-&-Setup)\n",
    "## 2. [Environments](#Environments)\n",
    "## 3. [Spaces](#Spaces)\n",
    "## 4. [Wrappers](#Wrappers)\n",
    "## 5. [Vectorized Environments](#Vectorized-Environments)"
   ]
  },
  {
   "cell_type": "markdown",
   "id": "56a90b10",
   "metadata": {},
   "source": [
    "# Installation & Setup"
   ]
  },
  {
   "cell_type": "markdown",
   "id": "5754ae13",
   "metadata": {},
   "source": [
    "### Setting up the virtual envorment \n",
    "- Lets create a new virtual enviorment to house our new project called **OpenAiGym** by typing the following comand into the terminal `conda create -n OpenAiGym python=3.9`\n",
    "- Next we will active our enviorment `conda activate OpenAiGym`\n",
    "- If you do not have miniconda installed you can get it [here](https://docs.conda.io/en/latest/miniconda.html) "
   ]
  },
  {
   "cell_type": "markdown",
   "id": "c5530a8f",
   "metadata": {},
   "source": [
    "### Setting up the virtual enviorment kernel for Jupyter Notebook\n",
    "- First we need to install the following package `pip install --user ipykernel`\n",
    "- Next we need to add the kernel so we can have it in our Jupyter Notebook `python -m ipykernel install --user --name=OpenAiGym`\n",
    "- Later if you wanna remove the enverment later use `jupyter kernelspec uninstall myenv`"
   ]
  },
  {
   "cell_type": "markdown",
   "id": "68e5db2c",
   "metadata": {},
   "source": [
    "### Installation\n",
    "- Firstly we need to install the base gym library `pip install gym` \n",
    "- Next we will need to install the atari enviorment dependences 'pip install gym[atari]"
   ]
  },
  {
   "cell_type": "markdown",
   "id": "a6597714",
   "metadata": {},
   "source": []
  },
  {
   "cell_type": "markdown",
   "id": "10bf2e7e",
   "metadata": {},
   "source": [
    "Next we will need to install the atari enviorment dependences `pip install gym[atari]`"
   ]
  },
  {
   "cell_type": "markdown",
   "id": "1a4e4ae4",
   "metadata": {},
   "source": [
    "# Environments"
   ]
  },
  {
   "cell_type": "markdown",
   "id": "7fe5ddc6",
   "metadata": {},
   "source": [
    "# Spaces"
   ]
  },
  {
   "cell_type": "markdown",
   "id": "1e20a302",
   "metadata": {},
   "source": [
    "# Wrappers"
   ]
  },
  {
   "cell_type": "markdown",
   "id": "d44dd8e1",
   "metadata": {},
   "source": [
    "# Vectorized Environments"
   ]
  },
  {
   "cell_type": "code",
   "execution_count": null,
   "id": "934a3478",
   "metadata": {},
   "outputs": [],
   "source": []
  }
 ],
 "metadata": {
  "kernelspec": {
   "display_name": "Test",
   "language": "python",
   "name": "test"
  },
  "language_info": {
   "codemirror_mode": {
    "name": "ipython",
    "version": 3
   },
   "file_extension": ".py",
   "mimetype": "text/x-python",
   "name": "python",
   "nbconvert_exporter": "python",
   "pygments_lexer": "ipython3",
   "version": "3.9.13"
  }
 },
 "nbformat": 4,
 "nbformat_minor": 5
}

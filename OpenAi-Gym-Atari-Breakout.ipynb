{
 "cells": [
  {
   "cell_type": "code",
   "execution_count": 1,
   "id": "ebf8785a",
   "metadata": {},
   "outputs": [],
   "source": [
    "import gym \n",
    "import cv2\n",
    "import time \n",
    "import imageio"
   ]
  },
  {
   "cell_type": "code",
   "execution_count": 2,
   "id": "4b10f116",
   "metadata": {},
   "outputs": [
    {
     "name": "stderr",
     "output_type": "stream",
     "text": [
      "A.L.E: Arcade Learning Environment (version 0.8.0+919230b)\n",
      "[Powered by Stella]\n",
      "Game console created:\n",
      "  ROM file:  /Users/justinvalentine/opt/anaconda3/envs/Test/lib/python3.9/site-packages/ale_py/roms/breakout.bin\n",
      "  Cart Name: Breakout - Breakaway IV (1978) (Atari)\n",
      "  Cart MD5:  f34f08e5eb96e500e851a80be3277a56\n",
      "  Display Format:  AUTO-DETECT ==> NTSC\n",
      "  ROM Size:        2048\n",
      "  Bankswitch Type: AUTO-DETECT ==> 2K\n",
      "\n",
      "Running ROM file...\n",
      "Random seed is 1667369836\n"
     ]
    }
   ],
   "source": [
    "from ale_py import ALEInterface\n",
    "ale = ALEInterface()\n",
    "\n",
    "from ale_py.roms import Breakout\n",
    "ale.loadROM(Breakout)"
   ]
  },
  {
   "cell_type": "code",
   "execution_count": 3,
   "id": "01518217",
   "metadata": {},
   "outputs": [
    {
     "name": "stderr",
     "output_type": "stream",
     "text": [
      "A.L.E: Arcade Learning Environment (version 0.8.0+919230b)\n",
      "[Powered by Stella]\n"
     ]
    }
   ],
   "source": [
    "env = gym.make(\"ALE/Breakout-v5\")\n",
    "env.reset()\n",
    "image_lst = []\n",
    "\n",
    "step_num, total_reward = 0, 0\n",
    "while step_num < 100:\n",
    "    action = env.env.action_space.sample()\n",
    "    state, reward, done, _, _ = env.step(action)\n",
    "\n",
    "    img = cv2.resize(state, (480, 480), \n",
    "                     interpolation=cv2.INTER_CUBIC)\n",
    "    \n",
    "    \n",
    "    frame = cv2.cvtColor(img, cv2.COLOR_BGR2RGB)\n",
    "    image_lst.append(frame)\n",
    "        \n",
    "    time.sleep(0.01)\n",
    "\n",
    "    step_num += 1\n",
    "\n",
    "env.close()\n",
    "\n",
    "imageio.mimsave('Test.gif', image_lst, fps=60)"
   ]
  },
  {
   "cell_type": "markdown",
   "id": "346a9b63",
   "metadata": {},
   "source": [
    "<img src=\"Test.gif\" width=\"300\" align=\"center\">"
   ]
  },
  {
   "cell_type": "code",
   "execution_count": null,
   "id": "c0553f33",
   "metadata": {},
   "outputs": [],
   "source": []
  }
 ],
 "metadata": {
  "interpreter": {
   "hash": "5511c47aec90ff6d3bf2282aa911cd8b4e17a7dd8b958807807acb2e44bc0528"
  },
  "kernelspec": {
   "display_name": "Test",
   "language": "python",
   "name": "test"
  },
  "language_info": {
   "codemirror_mode": {
    "name": "ipython",
    "version": 3
   },
   "file_extension": ".py",
   "mimetype": "text/x-python",
   "name": "python",
   "nbconvert_exporter": "python",
   "pygments_lexer": "ipython3",
   "version": "3.9.13"
  }
 },
 "nbformat": 4,
 "nbformat_minor": 5
}
